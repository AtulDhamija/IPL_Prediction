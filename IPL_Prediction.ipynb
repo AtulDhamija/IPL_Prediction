{
  "nbformat": 4,
  "nbformat_minor": 0,
  "metadata": {
    "colab": {
      "name": "IPL_Prediction",
      "provenance": [],
      "collapsed_sections": []
    },
    "kernelspec": {
      "name": "python3",
      "display_name": "Python 3"
    }
  },
  "cells": [
    {
      "cell_type": "code",
      "metadata": {
        "id": "GwuNGPtvlPas"
      },
      "source": [
        "import numpy as np\n",
        "import pandas as pd\n",
        "from matplotlib import pyplot as plt\n",
        "import math\n",
        "import glob\n",
        "import cv2"
      ],
      "execution_count": null,
      "outputs": []
    },
    {
      "cell_type": "code",
      "metadata": {
        "id": "UWvLPHmCl2hS",
        "colab": {
          "resources": {
            "http://localhost:8080/nbextensions/google.colab/files.js": {
              "data": "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",
              "ok": true,
              "headers": [
                [
                  "content-type",
                  "application/javascript"
                ]
              ],
              "status": 200,
              "status_text": ""
            }
          },
          "base_uri": "https://localhost:8080/",
          "height": 72
        },
        "outputId": "bb779571-1be4-4da7-e19b-0a6ed48484fa"
      },
      "source": [
        "#loading_data\n",
        "from google.colab import files\n",
        "uploaded=files.upload()"
      ],
      "execution_count": null,
      "outputs": [
        {
          "output_type": "display_data",
          "data": {
            "text/html": [
              "\n",
              "     <input type=\"file\" id=\"files-88b89ff1-aec4-4f50-9ac6-c08012c13d9f\" name=\"files[]\" multiple disabled\n",
              "        style=\"border:none\" />\n",
              "     <output id=\"result-88b89ff1-aec4-4f50-9ac6-c08012c13d9f\">\n",
              "      Upload widget is only available when the cell has been executed in the\n",
              "      current browser session. Please rerun this cell to enable.\n",
              "      </output>\n",
              "      <script src=\"/nbextensions/google.colab/files.js\"></script> "
            ],
            "text/plain": [
              "<IPython.core.display.HTML object>"
            ]
          },
          "metadata": {
            "tags": []
          }
        },
        {
          "output_type": "stream",
          "text": [
            "Saving Preprocessed_data_08-19.csv to Preprocessed_data_08-19.csv\n"
          ],
          "name": "stdout"
        }
      ]
    },
    {
      "cell_type": "code",
      "metadata": {
        "id": "V60s6W7-uD8C"
      },
      "source": [
        "# url = \"https://raw.githubusercontent.com/arjunparmar/IPL-2020/master/Arjun/final_08-19.csv\"\n",
        "# data = pd.read_csv(url)"
      ],
      "execution_count": null,
      "outputs": []
    },
    {
      "cell_type": "code",
      "metadata": {
        "id": "3J2q_aQiurOD",
        "colab": {
          "base_uri": "https://localhost:8080/",
          "height": 411
        },
        "outputId": "c9f1993d-da27-4e22-ce37-05dddb64f763"
      },
      "source": [
        "data = pd.read_csv(\"Preprocessed_data_08-19.csv\")\n",
        "display(data.tail())\n",
        "data.head()\n"
      ],
      "execution_count": null,
      "outputs": [
        {
          "output_type": "display_data",
          "data": {
            "text/html": [
              "<div>\n",
              "<style scoped>\n",
              "    .dataframe tbody tr th:only-of-type {\n",
              "        vertical-align: middle;\n",
              "    }\n",
              "\n",
              "    .dataframe tbody tr th {\n",
              "        vertical-align: top;\n",
              "    }\n",
              "\n",
              "    .dataframe thead th {\n",
              "        text-align: right;\n",
              "    }\n",
              "</style>\n",
              "<table border=\"1\" class=\"dataframe\">\n",
              "  <thead>\n",
              "    <tr style=\"text-align: right;\">\n",
              "      <th></th>\n",
              "      <th>team_A</th>\n",
              "      <th>team_B</th>\n",
              "      <th>toss_winner</th>\n",
              "      <th>top_batsmen_points_A</th>\n",
              "      <th>top_batsmen_points_B</th>\n",
              "      <th>top_baller_points_A</th>\n",
              "      <th>top_baller_points_B</th>\n",
              "      <th>match_won_after_winning_toss_A</th>\n",
              "      <th>match_won_after_winning_toss_B</th>\n",
              "      <th>runs_in_powerplay_A</th>\n",
              "      <th>runs_in_powerplay_B</th>\n",
              "      <th>run_rate_A</th>\n",
              "      <th>run_rate_B</th>\n",
              "      <th>most_value_player_points_A</th>\n",
              "      <th>most_value_player_points_B</th>\n",
              "      <th>win_ratio_A</th>\n",
              "      <th>win_ratio_B</th>\n",
              "      <th>ground_A</th>\n",
              "      <th>ground_B</th>\n",
              "      <th>winner</th>\n",
              "    </tr>\n",
              "  </thead>\n",
              "  <tbody>\n",
              "    <tr>\n",
              "      <th>751</th>\n",
              "      <td>4</td>\n",
              "      <td>7</td>\n",
              "      <td>1</td>\n",
              "      <td>0.4175</td>\n",
              "      <td>0.4850</td>\n",
              "      <td>0.325359</td>\n",
              "      <td>0.747608</td>\n",
              "      <td>0.563218</td>\n",
              "      <td>0.555556</td>\n",
              "      <td>0.480000</td>\n",
              "      <td>0.457143</td>\n",
              "      <td>0.028</td>\n",
              "      <td>0.421</td>\n",
              "      <td>0.788321</td>\n",
              "      <td>0.865485</td>\n",
              "      <td>0.22</td>\n",
              "      <td>0.78</td>\n",
              "      <td>0</td>\n",
              "      <td>1</td>\n",
              "      <td>1.0</td>\n",
              "    </tr>\n",
              "    <tr>\n",
              "      <th>752</th>\n",
              "      <td>0</td>\n",
              "      <td>7</td>\n",
              "      <td>0</td>\n",
              "      <td>0.5900</td>\n",
              "      <td>0.4850</td>\n",
              "      <td>0.677033</td>\n",
              "      <td>0.747608</td>\n",
              "      <td>0.649351</td>\n",
              "      <td>0.555556</td>\n",
              "      <td>0.240000</td>\n",
              "      <td>0.447619</td>\n",
              "      <td>0.131</td>\n",
              "      <td>0.421</td>\n",
              "      <td>0.796663</td>\n",
              "      <td>0.865485</td>\n",
              "      <td>0.46</td>\n",
              "      <td>0.54</td>\n",
              "      <td>1</td>\n",
              "      <td>0</td>\n",
              "      <td>1.0</td>\n",
              "    </tr>\n",
              "    <tr>\n",
              "      <th>753</th>\n",
              "      <td>12</td>\n",
              "      <td>1</td>\n",
              "      <td>1</td>\n",
              "      <td>0.4700</td>\n",
              "      <td>0.2875</td>\n",
              "      <td>0.630383</td>\n",
              "      <td>0.808612</td>\n",
              "      <td>0.500000</td>\n",
              "      <td>0.000000</td>\n",
              "      <td>0.520000</td>\n",
              "      <td>0.533333</td>\n",
              "      <td>0.577</td>\n",
              "      <td>0.044</td>\n",
              "      <td>0.724192</td>\n",
              "      <td>0.705944</td>\n",
              "      <td>0.67</td>\n",
              "      <td>0.33</td>\n",
              "      <td>0</td>\n",
              "      <td>0</td>\n",
              "      <td>1.0</td>\n",
              "    </tr>\n",
              "    <tr>\n",
              "      <th>754</th>\n",
              "      <td>1</td>\n",
              "      <td>0</td>\n",
              "      <td>1</td>\n",
              "      <td>0.2875</td>\n",
              "      <td>0.5900</td>\n",
              "      <td>0.808612</td>\n",
              "      <td>0.677033</td>\n",
              "      <td>0.000000</td>\n",
              "      <td>0.649351</td>\n",
              "      <td>0.360000</td>\n",
              "      <td>0.400000</td>\n",
              "      <td>0.044</td>\n",
              "      <td>0.131</td>\n",
              "      <td>0.705944</td>\n",
              "      <td>0.796663</td>\n",
              "      <td>0.33</td>\n",
              "      <td>0.67</td>\n",
              "      <td>0</td>\n",
              "      <td>0</td>\n",
              "      <td>1.0</td>\n",
              "    </tr>\n",
              "    <tr>\n",
              "      <th>755</th>\n",
              "      <td>7</td>\n",
              "      <td>0</td>\n",
              "      <td>0</td>\n",
              "      <td>0.4850</td>\n",
              "      <td>0.5900</td>\n",
              "      <td>0.747608</td>\n",
              "      <td>0.677033</td>\n",
              "      <td>0.555556</td>\n",
              "      <td>0.649351</td>\n",
              "      <td>0.413333</td>\n",
              "      <td>0.514286</td>\n",
              "      <td>0.421</td>\n",
              "      <td>0.131</td>\n",
              "      <td>0.865485</td>\n",
              "      <td>0.796663</td>\n",
              "      <td>0.54</td>\n",
              "      <td>0.46</td>\n",
              "      <td>0</td>\n",
              "      <td>0</td>\n",
              "      <td>0.0</td>\n",
              "    </tr>\n",
              "  </tbody>\n",
              "</table>\n",
              "</div>"
            ],
            "text/plain": [
              "     team_A  team_B  toss_winner  ...  ground_A  ground_B  winner\n",
              "751       4       7            1  ...         0         1     1.0\n",
              "752       0       7            0  ...         1         0     1.0\n",
              "753      12       1            1  ...         0         0     1.0\n",
              "754       1       0            1  ...         0         0     1.0\n",
              "755       7       0            0  ...         0         0     0.0\n",
              "\n",
              "[5 rows x 20 columns]"
            ]
          },
          "metadata": {
            "tags": []
          }
        },
        {
          "output_type": "execute_result",
          "data": {
            "text/html": [
              "<div>\n",
              "<style scoped>\n",
              "    .dataframe tbody tr th:only-of-type {\n",
              "        vertical-align: middle;\n",
              "    }\n",
              "\n",
              "    .dataframe tbody tr th {\n",
              "        vertical-align: top;\n",
              "    }\n",
              "\n",
              "    .dataframe thead th {\n",
              "        text-align: right;\n",
              "    }\n",
              "</style>\n",
              "<table border=\"1\" class=\"dataframe\">\n",
              "  <thead>\n",
              "    <tr style=\"text-align: right;\">\n",
              "      <th></th>\n",
              "      <th>team_A</th>\n",
              "      <th>team_B</th>\n",
              "      <th>toss_winner</th>\n",
              "      <th>top_batsmen_points_A</th>\n",
              "      <th>top_batsmen_points_B</th>\n",
              "      <th>top_baller_points_A</th>\n",
              "      <th>top_baller_points_B</th>\n",
              "      <th>match_won_after_winning_toss_A</th>\n",
              "      <th>match_won_after_winning_toss_B</th>\n",
              "      <th>runs_in_powerplay_A</th>\n",
              "      <th>runs_in_powerplay_B</th>\n",
              "      <th>run_rate_A</th>\n",
              "      <th>run_rate_B</th>\n",
              "      <th>most_value_player_points_A</th>\n",
              "      <th>most_value_player_points_B</th>\n",
              "      <th>win_ratio_A</th>\n",
              "      <th>win_ratio_B</th>\n",
              "      <th>ground_A</th>\n",
              "      <th>ground_B</th>\n",
              "      <th>winner</th>\n",
              "    </tr>\n",
              "  </thead>\n",
              "  <tbody>\n",
              "    <tr>\n",
              "      <th>0</th>\n",
              "      <td>4</td>\n",
              "      <td>9</td>\n",
              "      <td>1</td>\n",
              "      <td>0.2850</td>\n",
              "      <td>0.2175</td>\n",
              "      <td>0.712919</td>\n",
              "      <td>0.309809</td>\n",
              "      <td>0.0</td>\n",
              "      <td>0.0</td>\n",
              "      <td>0.613333</td>\n",
              "      <td>0.247619</td>\n",
              "      <td>-0.147</td>\n",
              "      <td>-1.160</td>\n",
              "      <td>0.536496</td>\n",
              "      <td>0.539625</td>\n",
              "      <td>0.0</td>\n",
              "      <td>0.0</td>\n",
              "      <td>0</td>\n",
              "      <td>1</td>\n",
              "      <td>0.0</td>\n",
              "    </tr>\n",
              "    <tr>\n",
              "      <th>1</th>\n",
              "      <td>0</td>\n",
              "      <td>6</td>\n",
              "      <td>0</td>\n",
              "      <td>0.9625</td>\n",
              "      <td>0.9550</td>\n",
              "      <td>0.514354</td>\n",
              "      <td>0.483254</td>\n",
              "      <td>0.0</td>\n",
              "      <td>0.0</td>\n",
              "      <td>0.506667</td>\n",
              "      <td>0.600000</td>\n",
              "      <td>-0.192</td>\n",
              "      <td>0.509</td>\n",
              "      <td>0.709072</td>\n",
              "      <td>0.758081</td>\n",
              "      <td>0.0</td>\n",
              "      <td>0.0</td>\n",
              "      <td>0</td>\n",
              "      <td>0</td>\n",
              "      <td>0.0</td>\n",
              "    </tr>\n",
              "    <tr>\n",
              "      <th>2</th>\n",
              "      <td>11</td>\n",
              "      <td>1</td>\n",
              "      <td>0</td>\n",
              "      <td>0.5500</td>\n",
              "      <td>0.2850</td>\n",
              "      <td>0.522727</td>\n",
              "      <td>0.545455</td>\n",
              "      <td>0.0</td>\n",
              "      <td>0.0</td>\n",
              "      <td>0.333333</td>\n",
              "      <td>0.523810</td>\n",
              "      <td>0.632</td>\n",
              "      <td>0.342</td>\n",
              "      <td>0.956204</td>\n",
              "      <td>0.539625</td>\n",
              "      <td>0.0</td>\n",
              "      <td>0.0</td>\n",
              "      <td>0</td>\n",
              "      <td>0</td>\n",
              "      <td>1.0</td>\n",
              "    </tr>\n",
              "    <tr>\n",
              "      <th>3</th>\n",
              "      <td>7</td>\n",
              "      <td>9</td>\n",
              "      <td>0</td>\n",
              "      <td>0.3350</td>\n",
              "      <td>0.2175</td>\n",
              "      <td>1.000000</td>\n",
              "      <td>0.309809</td>\n",
              "      <td>0.0</td>\n",
              "      <td>0.0</td>\n",
              "      <td>0.426667</td>\n",
              "      <td>0.380952</td>\n",
              "      <td>0.570</td>\n",
              "      <td>-1.160</td>\n",
              "      <td>0.754953</td>\n",
              "      <td>0.539625</td>\n",
              "      <td>0.0</td>\n",
              "      <td>0.0</td>\n",
              "      <td>1</td>\n",
              "      <td>0</td>\n",
              "      <td>1.0</td>\n",
              "    </tr>\n",
              "    <tr>\n",
              "      <th>4</th>\n",
              "      <td>2</td>\n",
              "      <td>4</td>\n",
              "      <td>0</td>\n",
              "      <td>0.4875</td>\n",
              "      <td>0.2850</td>\n",
              "      <td>0.561005</td>\n",
              "      <td>0.712919</td>\n",
              "      <td>0.0</td>\n",
              "      <td>0.0</td>\n",
              "      <td>0.320000</td>\n",
              "      <td>0.247619</td>\n",
              "      <td>-0.467</td>\n",
              "      <td>-0.147</td>\n",
              "      <td>0.623566</td>\n",
              "      <td>0.536496</td>\n",
              "      <td>0.0</td>\n",
              "      <td>0.0</td>\n",
              "      <td>0</td>\n",
              "      <td>1</td>\n",
              "      <td>1.0</td>\n",
              "    </tr>\n",
              "  </tbody>\n",
              "</table>\n",
              "</div>"
            ],
            "text/plain": [
              "   team_A  team_B  toss_winner  ...  ground_A  ground_B  winner\n",
              "0       4       9            1  ...         0         1     0.0\n",
              "1       0       6            0  ...         0         0     0.0\n",
              "2      11       1            0  ...         0         0     1.0\n",
              "3       7       9            0  ...         1         0     1.0\n",
              "4       2       4            0  ...         0         1     1.0\n",
              "\n",
              "[5 rows x 20 columns]"
            ]
          },
          "metadata": {
            "tags": []
          },
          "execution_count": 11
        }
      ]
    },
    {
      "cell_type": "code",
      "metadata": {
        "id": "MF7bketWl9EX",
        "colab": {
          "base_uri": "https://localhost:8080/",
          "height": 241
        },
        "outputId": "0ac867e0-2a08-4c5e-f0ef-2ba626cc3e2a"
      },
      "source": [
        "#spliting_data\n",
        "\n",
        "display(data.tail())\n",
        "\n",
        "print(len(data))\n",
        "#shuffling_data\n",
        "#p = np.random.permutation(len(data))\n",
        "#print(p)\n",
        "#data = data.loc[p]\n",
        "\n",
        "train_data = data[: 696]\n",
        "\n",
        "test_data = data[696 :]  \n",
        "\n",
        "#Hyd = 0\n",
        "#Mum = 1\n",
        "#Guj = 2\n",
        "#Pune= 3\n",
        "#Bangalore = 4\n",
        "#Kolk = 5\n",
        "#Delhi = 6\n",
        "#Punjab = 7\n",
        "#kerla = 10\n",
        "#chennai = 8\n",
        "#Rajas  = 9"
      ],
      "execution_count": null,
      "outputs": [
        {
          "output_type": "display_data",
          "data": {
            "text/html": [
              "<div>\n",
              "<style scoped>\n",
              "    .dataframe tbody tr th:only-of-type {\n",
              "        vertical-align: middle;\n",
              "    }\n",
              "\n",
              "    .dataframe tbody tr th {\n",
              "        vertical-align: top;\n",
              "    }\n",
              "\n",
              "    .dataframe thead th {\n",
              "        text-align: right;\n",
              "    }\n",
              "</style>\n",
              "<table border=\"1\" class=\"dataframe\">\n",
              "  <thead>\n",
              "    <tr style=\"text-align: right;\">\n",
              "      <th></th>\n",
              "      <th>team_A</th>\n",
              "      <th>team_B</th>\n",
              "      <th>toss_winner</th>\n",
              "      <th>top_batsmen_points_A</th>\n",
              "      <th>top_batsmen_points_B</th>\n",
              "      <th>top_baller_points_A</th>\n",
              "      <th>top_baller_points_B</th>\n",
              "      <th>match_won_after_winning_toss_A</th>\n",
              "      <th>match_won_after_winning_toss_B</th>\n",
              "      <th>runs_in_powerplay_A</th>\n",
              "      <th>runs_in_powerplay_B</th>\n",
              "      <th>run_rate_A</th>\n",
              "      <th>run_rate_B</th>\n",
              "      <th>most_value_player_points_A</th>\n",
              "      <th>most_value_player_points_B</th>\n",
              "      <th>win_ratio_A</th>\n",
              "      <th>win_ratio_B</th>\n",
              "      <th>ground_A</th>\n",
              "      <th>ground_B</th>\n",
              "      <th>winner</th>\n",
              "    </tr>\n",
              "  </thead>\n",
              "  <tbody>\n",
              "    <tr>\n",
              "      <th>751</th>\n",
              "      <td>4</td>\n",
              "      <td>7</td>\n",
              "      <td>1</td>\n",
              "      <td>0.4175</td>\n",
              "      <td>0.4850</td>\n",
              "      <td>0.325359</td>\n",
              "      <td>0.747608</td>\n",
              "      <td>0.563218</td>\n",
              "      <td>0.555556</td>\n",
              "      <td>0.480000</td>\n",
              "      <td>0.457143</td>\n",
              "      <td>0.028</td>\n",
              "      <td>0.421</td>\n",
              "      <td>0.788321</td>\n",
              "      <td>0.865485</td>\n",
              "      <td>0.22</td>\n",
              "      <td>0.78</td>\n",
              "      <td>0</td>\n",
              "      <td>1</td>\n",
              "      <td>1.0</td>\n",
              "    </tr>\n",
              "    <tr>\n",
              "      <th>752</th>\n",
              "      <td>0</td>\n",
              "      <td>7</td>\n",
              "      <td>0</td>\n",
              "      <td>0.5900</td>\n",
              "      <td>0.4850</td>\n",
              "      <td>0.677033</td>\n",
              "      <td>0.747608</td>\n",
              "      <td>0.649351</td>\n",
              "      <td>0.555556</td>\n",
              "      <td>0.240000</td>\n",
              "      <td>0.447619</td>\n",
              "      <td>0.131</td>\n",
              "      <td>0.421</td>\n",
              "      <td>0.796663</td>\n",
              "      <td>0.865485</td>\n",
              "      <td>0.46</td>\n",
              "      <td>0.54</td>\n",
              "      <td>1</td>\n",
              "      <td>0</td>\n",
              "      <td>1.0</td>\n",
              "    </tr>\n",
              "    <tr>\n",
              "      <th>753</th>\n",
              "      <td>12</td>\n",
              "      <td>1</td>\n",
              "      <td>1</td>\n",
              "      <td>0.4700</td>\n",
              "      <td>0.2875</td>\n",
              "      <td>0.630383</td>\n",
              "      <td>0.808612</td>\n",
              "      <td>0.500000</td>\n",
              "      <td>0.000000</td>\n",
              "      <td>0.520000</td>\n",
              "      <td>0.533333</td>\n",
              "      <td>0.577</td>\n",
              "      <td>0.044</td>\n",
              "      <td>0.724192</td>\n",
              "      <td>0.705944</td>\n",
              "      <td>0.67</td>\n",
              "      <td>0.33</td>\n",
              "      <td>0</td>\n",
              "      <td>0</td>\n",
              "      <td>1.0</td>\n",
              "    </tr>\n",
              "    <tr>\n",
              "      <th>754</th>\n",
              "      <td>1</td>\n",
              "      <td>0</td>\n",
              "      <td>1</td>\n",
              "      <td>0.2875</td>\n",
              "      <td>0.5900</td>\n",
              "      <td>0.808612</td>\n",
              "      <td>0.677033</td>\n",
              "      <td>0.000000</td>\n",
              "      <td>0.649351</td>\n",
              "      <td>0.360000</td>\n",
              "      <td>0.400000</td>\n",
              "      <td>0.044</td>\n",
              "      <td>0.131</td>\n",
              "      <td>0.705944</td>\n",
              "      <td>0.796663</td>\n",
              "      <td>0.33</td>\n",
              "      <td>0.67</td>\n",
              "      <td>0</td>\n",
              "      <td>0</td>\n",
              "      <td>1.0</td>\n",
              "    </tr>\n",
              "    <tr>\n",
              "      <th>755</th>\n",
              "      <td>7</td>\n",
              "      <td>0</td>\n",
              "      <td>0</td>\n",
              "      <td>0.4850</td>\n",
              "      <td>0.5900</td>\n",
              "      <td>0.747608</td>\n",
              "      <td>0.677033</td>\n",
              "      <td>0.555556</td>\n",
              "      <td>0.649351</td>\n",
              "      <td>0.413333</td>\n",
              "      <td>0.514286</td>\n",
              "      <td>0.421</td>\n",
              "      <td>0.131</td>\n",
              "      <td>0.865485</td>\n",
              "      <td>0.796663</td>\n",
              "      <td>0.54</td>\n",
              "      <td>0.46</td>\n",
              "      <td>0</td>\n",
              "      <td>0</td>\n",
              "      <td>0.0</td>\n",
              "    </tr>\n",
              "  </tbody>\n",
              "</table>\n",
              "</div>"
            ],
            "text/plain": [
              "     team_A  team_B  toss_winner  ...  ground_A  ground_B  winner\n",
              "751       4       7            1  ...         0         1     1.0\n",
              "752       0       7            0  ...         1         0     1.0\n",
              "753      12       1            1  ...         0         0     1.0\n",
              "754       1       0            1  ...         0         0     1.0\n",
              "755       7       0            0  ...         0         0     0.0\n",
              "\n",
              "[5 rows x 20 columns]"
            ]
          },
          "metadata": {
            "tags": []
          }
        },
        {
          "output_type": "stream",
          "text": [
            "756\n"
          ],
          "name": "stdout"
        }
      ]
    },
    {
      "cell_type": "code",
      "metadata": {
        "id": "oqDM0RzLmURX",
        "colab": {
          "base_uri": "https://localhost:8080/",
          "height": 85
        },
        "outputId": "9c16e878-76a5-471e-fcc2-cbba72c57796"
      },
      "source": [
        "X_train = np.array(train_data.drop([\"winner\"] , axis = 1).copy()).T\n",
        "Y_train = np.array([train_data['winner'].copy()])\n",
        "\n",
        "X_test = np.array(test_data.drop([\"winner\"] , axis = 1).copy()).T\n",
        "Y_test = np.array([test_data['winner'].copy()])\n",
        "\n",
        "print(X_train.shape)\n",
        "print(Y_train.shape)\n",
        "print(X_test.shape)\n",
        "print(Y_test.shape)"
      ],
      "execution_count": null,
      "outputs": [
        {
          "output_type": "stream",
          "text": [
            "(19, 696)\n",
            "(1, 696)\n",
            "(19, 60)\n",
            "(1, 60)\n"
          ],
          "name": "stdout"
        }
      ]
    },
    {
      "cell_type": "code",
      "metadata": {
        "id": "NcJd8EzQnTU1"
      },
      "source": [
        "#Data_preprocesing\n",
        "shape = (Y_train.max()+1, Y_train.shape[1]) #Generating one_hot_vector so that later we can apply multi class classification\n",
        "one_hot = np.zeros(shape)\n",
        "rows= np.arange(Y_train.shape[1])\n",
        "one_hot[Y_train , rows]=1\n",
        "Y_train = one_hot"
      ],
      "execution_count": null,
      "outputs": []
    },
    {
      "cell_type": "code",
      "metadata": {
        "id": "GdA7wPjs6ojc"
      },
      "source": [
        "#Data_preprocesing\n",
        "shape = (Y_test.max()+1, Y_test.shape[1]) #Generating one_hot_vector so that later we can apply multi class classification\n",
        "one_hot = np.zeros(shape)\n",
        "rows= np.arange(Y_test.shape[1])\n",
        "one_hot[Y_test , rows]=1\n",
        "Y_test = one_hot"
      ],
      "execution_count": null,
      "outputs": []
    },
    {
      "cell_type": "code",
      "metadata": {
        "id": "lOsbIO5A7ILo"
      },
      "source": [
        "Y_test = np.vstack([Y_test,np.zeros((1,60))]) #Adding kerala on the last row in 2019 as it was not playing"
      ],
      "execution_count": null,
      "outputs": []
    },
    {
      "cell_type": "code",
      "metadata": {
        "id": "W0E_qyktzdqj",
        "colab": {
          "base_uri": "https://localhost:8080/",
          "height": 51
        },
        "outputId": "cba1402e-f3ba-41b1-cd4c-73ed80360c3d"
      },
      "source": [
        "print(Y_train.shape)\n",
        "print(Y_test.shape)"
      ],
      "execution_count": null,
      "outputs": [
        {
          "output_type": "stream",
          "text": [
            "(11, 696)\n",
            "(11, 60)\n"
          ],
          "name": "stdout"
        }
      ]
    },
    {
      "cell_type": "code",
      "metadata": {
        "id": "Ce9BdjLazhDA",
        "colab": {
          "base_uri": "https://localhost:8080/",
          "height": 85
        },
        "outputId": "8968d2e9-6f50-4227-81ad-13f5894fee92"
      },
      "source": [
        "X_train = np.copy(X_train).astype(float)\n",
        "X_test  = np.copy(X_test).astype(float)\n",
        "#data_preprocessing\n",
        "mean = np.array([np.mean(X_train , axis = 1)]).T  #normalizing the training set\n",
        "max = np.array([np.max(X_train , axis = 1)]).T\n",
        "min = np.array([np.min(X_train , axis=1)]).T\n",
        "#variance_train = np.mean((X_train - mean)**2)\n",
        "#X_train = ((X_train - mean) / np.sqrt(variance_train))\n",
        "X_train = ((X_train - mean) / (max - min))\n",
        "\n",
        "print(X_train.shape)\n",
        "print(Y_train.shape)\n",
        "\n",
        "mean = np.array([np.mean(X_test , axis = 1)]).T  #normalizing the test set\n",
        "max = np.array([np.max(X_test , axis = 1)]).T\n",
        "min = np.array([np.min(X_test , axis=1)]).T\n",
        "#variance_test = np.mean((X_test - mean)**2)\n",
        "#X_test = ((X_test - mean) / np.sqrt(variance_test))\n",
        "X_test = ((X_test - mean) / (max - min))\n",
        "\n",
        "print(X_test.shape)\n",
        "print(Y_test.shape)"
      ],
      "execution_count": null,
      "outputs": [
        {
          "output_type": "stream",
          "text": [
            "(8, 696)\n",
            "(11, 696)\n",
            "(8, 60)\n",
            "(11, 60)\n"
          ],
          "name": "stdout"
        }
      ]
    },
    {
      "cell_type": "code",
      "metadata": {
        "id": "XEhTC4Poz_UF",
        "colab": {
          "base_uri": "https://localhost:8080/",
          "height": 34
        },
        "outputId": "f1d39fb3-e94b-4a12-a39b-b9aef634155f"
      },
      "source": [
        "n_X=X_train.shape[0]\n",
        "m=X_train.shape[1]\n",
        "\n",
        "def softmax(A):               #Softmax gives a good classification as it standardizes the output values.\n",
        "    A = A - np.max(A)\n",
        "    return np.exp(A) / np.sum(np.exp(A),axis=0) \n",
        "\n",
        "nums = np.array([4, 5, 6])\n",
        "print(softmax(nums))"
      ],
      "execution_count": null,
      "outputs": [
        {
          "output_type": "stream",
          "text": [
            "[0.09003057 0.24472847 0.66524096]\n"
          ],
          "name": "stdout"
        }
      ]
    },
    {
      "cell_type": "code",
      "metadata": {
        "id": "X2x4n-bO0lO3"
      },
      "source": [
        "#initialize_parameters\n",
        "layer_dims=[19,100,80,60,30,15,13,1]                               #use this for He initializtion *np.sqrt(2/layer_dims[l-1])\n",
        "                                                                       \n",
        "parameters={}\n",
        "L=len(layer_dims)\n",
        "for l in range(1,L):\n",
        "  parameters[\"W\"+str(l)]= np.random.randn(layer_dims[l],layer_dims[l-1])*np.sqrt(2/layer_dims[l-1])\n",
        "\n",
        "  parameters[\"b\"+str(l)]= np.zeros((layer_dims[l],1))*0.01\n",
        "\n",
        "\n",
        "def DNN_model(X,Y,parameters,layer_dims,num_iterations,learning_rate,lambd):\n",
        "\n",
        "  m=X.shape[1]\n",
        "  Y_prediction=np.zeros((1,m))\n",
        "  forward_cache={}\n",
        "  \n",
        "  forward_cache[\"A0\"]=np.copy(X)\n",
        "  L=len(layer_dims)\n",
        "  grads={}\n",
        "  costs=[]\n",
        "  cost_1=1000\n",
        "  cost_2=1000\n",
        "  reg_cost = 0\n",
        "  tot_reg_cost = 0\n",
        "  for i in range(0,num_iterations):\n",
        "    \n",
        "    A=np.copy(X)\n",
        "    for l in range(1,L-1):\n",
        "      \n",
        "      A_prev=np.copy(A)\n",
        "      \n",
        "      forward_cache[\"Z\"+str(l)]=np.dot(parameters[\"W\"+str(l)],A_prev)+parameters[\"b\"+str(l)]\n",
        "      A=np.maximum(0,forward_cache[\"Z\"+str(l)])\n",
        "      \n",
        "      forward_cache[\"A\"+str(l)]=np.copy(A)\n",
        "      #Regulariztion_cost\n",
        "      reg_cost += np.sum(np.square(parameters[\"W\" + str(l)]))\n",
        "\n",
        "\n",
        "    #last_layer\n",
        "    tot_reg_cost = (1/m)*(lambd/2)*(reg_cost + np.sum(np.square(parameters[\"W\"+str(L-1)])))\n",
        "    W=parameters[\"W\"+str(L-1)]\n",
        "    b=parameters[\"b\"+str(L-1)]\n",
        "    forward_cache[\"Z\"+str(L-1)]=np.dot(W,A)+b\n",
        "    AL=  softmax(forward_cache[\"Z\"+str(L-1)])\n",
        "\n",
        "    #Regulariztion_cost\n",
        "    \n",
        "\n",
        "    #compute_cost\n",
        "    m=Y.shape[1]\n",
        "    cost_1 = -np.mean(Y * np.log(AL + 1e-8)) + tot_reg_cost\n",
        "\n",
        "    #print(np.sum(W))\n",
        "    #print(np.sum(b))\n",
        "    print(cost_1)\n",
        "\n",
        "    costs.append(float(cost_1))\n",
        "    #backward_prop\n",
        "    grads[\"dZ\"+str(L-1)]=AL-Y\n",
        "    grads[\"dW\"+str(L-1)]=(1/m)*(np.dot(grads[\"dZ\"+str(L-1)],forward_cache[\"A\"+str(L-2)].T)) + (lambd/m)*(parameters[\"W\"+str(L-1)])\n",
        "    grads[\"db\"+str(L-1)]=(1/m)*(np.sum(grads[\"dZ\"+str(L-1)],axis=1,keepdims=True))\n",
        "    for l in reversed(range(1,L-1)):\n",
        "      grads[\"dZ\"+str(l)]=np.multiply(np.dot(parameters[\"W\"+str(l+1)].T,grads[\"dZ\"+str(l+1)]),np.int64(forward_cache[\"A\"+str(l)]>0))\n",
        "      grads[\"dW\"+str(l)]=(1/m)*(np.dot(grads[\"dZ\"+str(l)],(forward_cache[\"A\"+str(l-1)]).T)) + (lambd/m)*(parameters[\"W\"+str(l)])\n",
        "      grads[\"db\"+str(l)]=(1/m)*(np.sum(grads[\"dZ\"+str(l)],axis=1,keepdims=True))\n",
        "    for l in range(1, L):\n",
        "      parameters[\"W\" + str(l)] = parameters[\"W\" + str(l)] - learning_rate * grads[\"dW\" + str(l)]\n",
        "      parameters[\"b\" + str(l)] = parameters[\"b\" + str(l)] - learning_rate * grads[\"db\" + str(l)]\n",
        "     \n",
        "  return Y_prediction,parameters,costs,AL"
      ],
      "execution_count": null,
      "outputs": []
    },
    {
      "cell_type": "code",
      "metadata": {
        "id": "7G6-HJC80kjO"
      },
      "source": [
        "Y_prediction,parameters,costs,AL= DNN_model(X_train,Y_train,parameters,layer_dims,num_iterations=5000,learning_rate=0.01,lambd=0)\n",
        "num_iterations=5000\n",
        "\n",
        "plt.plot(list(range(num_iterations)),list(costs))\n",
        "plt.show()"
      ],
      "execution_count": null,
      "outputs": []
    },
    {
      "cell_type": "code",
      "metadata": {
        "id": "E0cr4v6V0kVz",
        "colab": {
          "base_uri": "https://localhost:8080/",
          "height": 51
        },
        "outputId": "bf01c5d8-c0a5-4beb-ade7-e31d5b4a8df6"
      },
      "source": [
        "print(AL.shape)\n",
        "print(Y_train.shape)"
      ],
      "execution_count": null,
      "outputs": [
        {
          "output_type": "stream",
          "text": [
            "(11, 696)\n",
            "(11, 696)\n"
          ],
          "name": "stdout"
        }
      ]
    },
    {
      "cell_type": "code",
      "metadata": {
        "id": "Dld9y9qz8u1Y"
      },
      "source": [
        "def DNN_model_batch(X,Y,parameters):\n",
        "\n",
        "  m=X.shape[1]\n",
        "  Y_prediction=np.zeros((1,m))\n",
        "  forward_cache={}\n",
        "  \n",
        "  forward_cache[\"A0\"]=np.copy(X)\n",
        "  L=len(layer_dims)\n",
        "  grads={}\n",
        "  costs=[]\n",
        "  cost_1=1000\n",
        "  cost_2=1000\n",
        "  for i in range(0,num_iterations):\n",
        "    \n",
        "    A=np.copy(X)\n",
        "    for l in range(1,L-1):\n",
        "      \n",
        "      A_prev=np.copy(A)\n",
        "      \n",
        "      forward_cache[\"Z\"+str(l)]=np.dot(parameters[\"W\"+str(l)],A_prev)+parameters[\"b\"+str(l)]\n",
        "      A=np.maximum(0,forward_cache[\"Z\"+str(l)])\n",
        "      \n",
        "      forward_cache[\"A\"+str(l)]=np.copy(A)\n",
        "    #last_layer\n",
        "    W=parameters[\"W\"+str(L-1)]\n",
        "    b=parameters[\"b\"+str(L-1)]\n",
        "    forward_cache[\"Z\"+str(L-1)]=np.dot(W,A)+b\n",
        "    AL_train=  softmax(forward_cache[\"Z\"+str(L-1)])\n",
        "     \n",
        "  return parameters,AL_train"
      ],
      "execution_count": null,
      "outputs": []
    },
    {
      "cell_type": "code",
      "metadata": {
        "id": "tGtnYSH78uh-"
      },
      "source": [
        "parameters,AL_train= DNN_model_batch(X_train,Y_train,parameters)"
      ],
      "execution_count": null,
      "outputs": []
    },
    {
      "cell_type": "code",
      "metadata": {
        "id": "d_FBU8vS867S"
      },
      "source": [
        "  for i in range(AL_train.shape[1]):\n",
        "    \n",
        "    a = np.max(AL_train[:,i])\n",
        "    AL_train[:,i] = (AL_train[:,i]==a)\n",
        "  fai = np.absolute(AL_train - Y_train)\n",
        "  count = 0\n",
        "  for i in range(0,fai.shape[1]):\n",
        "    if np.sum(fai[:,i]) == 0:\n",
        "      count +=1\n",
        "  print(count)\n",
        "  print((count /X_train.shape[1])*100)"
      ],
      "execution_count": null,
      "outputs": []
    },
    {
      "cell_type": "code",
      "metadata": {
        "id": "SBKEsGpB8OiU"
      },
      "source": [
        "#for test set\n",
        "parameters,AL_test= DNN_model_batch(X_test,Y_test,parameters)"
      ],
      "execution_count": null,
      "outputs": []
    },
    {
      "cell_type": "code",
      "metadata": {
        "id": "Sf--vCKT228g"
      },
      "source": [
        "  for i in range(AL_test.shape[1]):\n",
        "    \n",
        "    a = np.max(AL_test[:,i])\n",
        "    AL_test[:,i] = (AL_test[:,i]==a)\n",
        "  fai = np.absolute(AL_test - Y_test)\n",
        "  count = 0\n",
        "  for i in range(0,fai.shape[1]):\n",
        "    if np.sum(fai[:,i]) == 0:\n",
        "      count +=1\n",
        "  print(count)\n",
        "  print((count /X_test.shape[1])*100)"
      ],
      "execution_count": null,
      "outputs": []
    },
    {
      "cell_type": "code",
      "metadata": {
        "id": "1mvrbfnZ9EJy"
      },
      "source": [
        ""
      ],
      "execution_count": null,
      "outputs": []
    }
  ]
}